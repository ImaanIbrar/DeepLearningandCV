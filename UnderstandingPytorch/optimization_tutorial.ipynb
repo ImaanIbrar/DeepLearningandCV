{
  "cells": [
    {
      "cell_type": "code",
      "execution_count": 17,
      "metadata": {
        "id": "BJ0WkrWtW7oW"
      },
      "outputs": [],
      "source": [
        "# For tips on running notebooks in Google Colab, see\n",
        "# https://pytorch.org/tutorials/beginner/colab\n",
        "%matplotlib inline"
      ]
    },
    {
      "cell_type": "markdown",
      "metadata": {
        "id": "sVJBKDg6W7oc"
      },
      "source": []
    },
    {
      "cell_type": "code",
      "source": [
        "import torch\n",
        "from torch import nn\n",
        "from torch.utils.data import DataLoader\n",
        "from torchvision import datasets\n",
        "from torchvision.transforms import ToTensor"
      ],
      "metadata": {
        "id": "EkipY1vGdsMm"
      },
      "execution_count": 18,
      "outputs": []
    },
    {
      "cell_type": "code",
      "source": [
        "device = torch.device(\"cuda\" if torch.cuda.is_available() else \"cpu\")\n",
        "print(device)"
      ],
      "metadata": {
        "colab": {
          "base_uri": "https://localhost:8080/"
        },
        "id": "9eWBJMeuddeg",
        "outputId": "a332d915-bc2e-4a83-bbae-f2e7ab29cdf1"
      },
      "execution_count": 19,
      "outputs": [
        {
          "output_type": "stream",
          "name": "stdout",
          "text": [
            "cuda\n"
          ]
        }
      ]
    },
    {
      "cell_type": "code",
      "execution_count": 20,
      "metadata": {
        "id": "au4gBg8mW7oe"
      },
      "outputs": [],
      "source": [
        "\n",
        "\n",
        "training_data = datasets.FashionMNIST(\n",
        "    root=\"data\",\n",
        "    train=True,\n",
        "    download=True,\n",
        "    transform=ToTensor()\n",
        ")\n",
        "\n",
        "test_data = datasets.FashionMNIST(\n",
        "    root=\"data\",\n",
        "    train=False,\n",
        "    download=True,\n",
        "    transform=ToTensor()\n",
        ")\n",
        "\n",
        "train_dataloader = DataLoader(training_data, batch_size=2048,pin_memory=True)\n",
        "test_dataloader = DataLoader(test_data, batch_size=2048,pin_memory=True)\n",
        "\n",
        "class NeuralNetwork(nn.Module):\n",
        "    def __init__(self):\n",
        "        super().__init__()\n",
        "        self.flatten = nn.Flatten()\n",
        "        self.linear_relu_stack = nn.Sequential(\n",
        "            nn.Linear(28*28, 512),\n",
        "            nn.ReLU(),\n",
        "            nn.Linear(512, 512),\n",
        "            nn.ReLU(),\n",
        "            nn.Linear(512, 10),\n",
        "        )\n",
        "\n",
        "    def forward(self, x):\n",
        "        x = self.flatten(x)\n",
        "        logits = self.linear_relu_stack(x)\n",
        "        return logits\n",
        "\n",
        "model = NeuralNetwork().to(device)"
      ]
    },
    {
      "cell_type": "code",
      "source": [],
      "metadata": {
        "id": "2dDb9R2gddbE"
      },
      "execution_count": 20,
      "outputs": []
    },
    {
      "cell_type": "markdown",
      "metadata": {
        "id": "7e71-5lUW7of"
      },
      "source": [
        "Hyperparameters\n",
        "===============\n",
        "\n",
        "Hyperparameters are adjustable parameters that let you control the model\n",
        "optimization process. Different hyperparameter values can impact model\n",
        "training and convergence rates ([read\n",
        "more](https://pytorch.org/tutorials/beginner/hyperparameter_tuning_tutorial.html)\n",
        "about hyperparameter tuning)\n",
        "\n",
        "We define the following hyperparameters for training:\n",
        "\n",
        ":   -   **Number of Epochs** - the number times to iterate over the\n",
        "        dataset\n",
        "    -   **Batch Size** - the number of data samples propagated through\n",
        "        the network before the parameters are updated\n",
        "    -   **Learning Rate** - how much to update models parameters at each\n",
        "        batch/epoch. Smaller values yield slow learning speed, while\n",
        "        large values may result in unpredictable behavior during\n",
        "        training.\n"
      ]
    },
    {
      "cell_type": "code",
      "execution_count": 38,
      "metadata": {
        "id": "z57YBxhgW7og"
      },
      "outputs": [],
      "source": [
        "learning_rate1 = 1e-3\n",
        "learning_rate2 = 3*3e-3\n",
        "learning_rate3 = 1e-3*1e-2*1\n",
        "\n",
        "batch_size = 64\n",
        "epochs = 10"
      ]
    },
    {
      "cell_type": "markdown",
      "metadata": {
        "id": "-_vSi7PZW7og"
      },
      "source": [
        "Optimization Loop\n",
        "=================\n",
        "\n",
        "Once we set our hyperparameters, we can then train and optimize our\n",
        "model with an optimization loop. Each iteration of the optimization loop\n",
        "is called an **epoch**.\n",
        "\n",
        "Each epoch consists of two main parts:\n",
        "\n",
        ":   -   **The Train Loop** - iterate over the training dataset and try\n",
        "        to converge to optimal parameters.\n",
        "    -   **The Validation/Test Loop** - iterate over the test dataset to\n",
        "        check if model performance is improving.\n",
        "\n",
        "Let\\'s briefly familiarize ourselves with some of the concepts used in\n",
        "the training loop. Jump ahead to see the\n",
        "`full-impl-label`{.interpreted-text role=\"ref\"} of the optimization\n",
        "loop.\n",
        "\n",
        "Loss Function\n",
        "-------------\n",
        "\n",
        "When presented with some training data, our untrained network is likely\n",
        "not to give the correct answer. **Loss function** measures the degree of\n",
        "dissimilarity of obtained result to the target value, and it is the loss\n",
        "function that we want to minimize during training. To calculate the loss\n",
        "we make a prediction using the inputs of our given data sample and\n",
        "compare it against the true data label value.\n",
        "\n",
        "Common loss functions include\n",
        "[nn.MSELoss](https://pytorch.org/docs/stable/generated/torch.nn.MSELoss.html#torch.nn.MSELoss)\n",
        "(Mean Square Error) for regression tasks, and\n",
        "[nn.NLLLoss](https://pytorch.org/docs/stable/generated/torch.nn.NLLLoss.html#torch.nn.NLLLoss)\n",
        "(Negative Log Likelihood) for classification.\n",
        "[nn.CrossEntropyLoss](https://pytorch.org/docs/stable/generated/torch.nn.CrossEntropyLoss.html#torch.nn.CrossEntropyLoss)\n",
        "combines `nn.LogSoftmax` and `nn.NLLLoss`.\n",
        "\n",
        "We pass our model\\'s output logits to `nn.CrossEntropyLoss`, which will\n",
        "normalize the logits and compute the prediction error.\n"
      ]
    },
    {
      "cell_type": "code",
      "execution_count": 23,
      "metadata": {
        "id": "5GdWpdJ5W7oh"
      },
      "outputs": [],
      "source": [
        "# Initialize the loss function\n",
        "loss_fn = nn.CrossEntropyLoss()\n"
      ]
    },
    {
      "cell_type": "markdown",
      "metadata": {
        "id": "zkVBFXlVW7oh"
      },
      "source": [
        "Optimizer\n",
        "=========\n",
        "\n",
        "Optimization is the process of adjusting model parameters to reduce\n",
        "model error in each training step. **Optimization algorithms** define\n",
        "how this process is performed (in this example we use Stochastic\n",
        "Gradient Descent). All optimization logic is encapsulated in the\n",
        "`optimizer` object. Here, we use the SGD optimizer; additionally, there\n",
        "are many [different\n",
        "optimizers](https://pytorch.org/docs/stable/optim.html) available in\n",
        "PyTorch such as ADAM and RMSProp, that work better for different kinds\n",
        "of models and data.\n",
        "\n",
        "We initialize the optimizer by registering the model\\'s parameters that\n",
        "need to be trained, and passing in the learning rate hyperparameter.\n"
      ]
    },
    {
      "cell_type": "code",
      "execution_count": 24,
      "metadata": {
        "id": "5HbI7v4XW7oi"
      },
      "outputs": [],
      "source": [
        "optimizer1 = torch.optim.SGD(model.parameters(), lr=learning_rate1)\n",
        "optimizer2 = torch.optim.Adam(model.parameters(), lr=learning_rate1)\n",
        "optimizer3 = torch.optim.AdamW(model.parameters(), lr=learning_rate1)"
      ]
    },
    {
      "cell_type": "markdown",
      "metadata": {
        "id": "gS57jnxuW7oi"
      },
      "source": [
        "Inside the training loop, optimization happens in three steps:\n",
        "\n",
        ":   -   Call `optimizer.zero_grad()` to reset the gradients of model\n",
        "        parameters. Gradients by default add up; to prevent\n",
        "        double-counting, we explicitly zero them at each iteration.\n",
        "    -   Backpropagate the prediction loss with a call to\n",
        "        `loss.backward()`. PyTorch deposits the gradients of the loss\n",
        "        w.r.t. each parameter.\n",
        "    -   Once we have our gradients, we call `optimizer.step()` to adjust\n",
        "        the parameters by the gradients collected in the backward pass.\n"
      ]
    },
    {
      "cell_type": "markdown",
      "metadata": {
        "id": "GcEXjANrW7oi"
      },
      "source": [
        "Full Implementation\n",
        "===================\n",
        "\n",
        "We define `train_loop` that loops over our optimization code, and\n",
        "`test_loop` that evaluates the model\\'s performance against our test\n",
        "data.\n"
      ]
    },
    {
      "cell_type": "code",
      "execution_count": 33,
      "metadata": {
        "id": "w9-LzrSrW7oj"
      },
      "outputs": [],
      "source": [
        "def train_loop(dataloader, model, loss_fn, optimizer):\n",
        "    size = len(dataloader.dataset)\n",
        "    # Set the model to training mode - important for batch normalization and dropout layers\n",
        "    # Unnecessary in this situation but added for best practices\n",
        "    model.train()\n",
        "    for batch, (X, y) in enumerate(dataloader):\n",
        "        # Compute prediction and loss\n",
        "        X= X.to(device)\n",
        "        y =y.to(device)\n",
        "        pred = model(X)\n",
        "        loss = loss_fn(pred, y)\n",
        "\n",
        "        # Backpropagation\n",
        "        loss.backward()\n",
        "        optimizer.step()\n",
        "        optimizer.zero_grad()\n",
        "\n",
        "        if batch % 100 == 0:\n",
        "            loss, current = loss.item(), batch * batch_size + len(X)\n",
        "            print(f\"loss: {loss:>7f}  [{current:>5d}/{size:>5d}]\")\n",
        "\n",
        "\n",
        "def test_loop(dataloader, model, loss_fn):\n",
        "    # Set the model to evaluation mode - important for batch normalization and dropout layers\n",
        "    # Unnecessary in this situation but added for best practices\n",
        "    best_loss = float(\"inf\")\n",
        "    model.eval()\n",
        "    size = len(dataloader.dataset)\n",
        "    num_batches = len(dataloader)\n",
        "    test_loss, correct = 0, 0\n",
        "\n",
        "    # Evaluating the model with torch.no_grad() ensures that no gradients are computed during test mode\n",
        "    # also serves to reduce unnecessary gradient computations and memory usage for tensors with requires_grad=True\n",
        "    with torch.no_grad():\n",
        "        for X, y in dataloader:\n",
        "            X= X.to(device)\n",
        "            y =y.to(device)\n",
        "            pred = model(X)\n",
        "            running_loss= loss_fn(pred, y).item()\n",
        "            test_loss += running_loss\n",
        "            correct += (pred.argmax(1) == y).type(torch.float).sum().item()\n",
        "            if (running_loss) <= best_loss:\n",
        "              best_loss = running_loss\n",
        "              torch.save(model.state_dict(),\"model_weight.pth\")\n",
        "    test_loss /= num_batches\n",
        "    correct /= size\n",
        "    print(f\"Test Error: \\n Accuracy: {(100*correct):>0.1f}%, Avg loss: {test_loss:>8f} \\n\")"
      ]
    },
    {
      "cell_type": "markdown",
      "metadata": {
        "id": "7AnN_a6dW7oj"
      },
      "source": [
        "We initialize the loss function and optimizer, and pass it to\n",
        "`train_loop` and `test_loop`. Feel free to increase the number of epochs\n",
        "to track the model\\'s improving performance.\n"
      ]
    },
    {
      "cell_type": "markdown",
      "source": [],
      "metadata": {
        "id": "hLkiM8GijwTL"
      }
    },
    {
      "cell_type": "code",
      "execution_count": 26,
      "metadata": {
        "id": "tnOB2D9mW7ok",
        "colab": {
          "base_uri": "https://localhost:8080/"
        },
        "outputId": "4c7f3f99-f32f-42a8-e878-7c44982c9e03"
      },
      "outputs": [
        {
          "output_type": "stream",
          "name": "stdout",
          "text": [
            "Epoch 1\n",
            "-------------------------------\n",
            "loss: 2.294195  [ 2048/60000]\n",
            "Test Error: \n",
            " Accuracy: 15.2%, Avg loss: 2.291086 \n",
            "\n",
            "Epoch 2\n",
            "-------------------------------\n",
            "loss: 2.289691  [ 2048/60000]\n",
            "Test Error: \n",
            " Accuracy: 16.9%, Avg loss: 2.286611 \n",
            "\n",
            "Epoch 3\n",
            "-------------------------------\n",
            "loss: 2.285214  [ 2048/60000]\n",
            "Test Error: \n",
            " Accuracy: 18.1%, Avg loss: 2.282155 \n",
            "\n",
            "Epoch 4\n",
            "-------------------------------\n",
            "loss: 2.280751  [ 2048/60000]\n",
            "Test Error: \n",
            " Accuracy: 18.9%, Avg loss: 2.277712 \n",
            "\n",
            "Epoch 5\n",
            "-------------------------------\n",
            "loss: 2.276299  [ 2048/60000]\n",
            "Test Error: \n",
            " Accuracy: 19.8%, Avg loss: 2.273275 \n",
            "\n",
            "Epoch 6\n",
            "-------------------------------\n",
            "loss: 2.271853  [ 2048/60000]\n",
            "Test Error: \n",
            " Accuracy: 21.0%, Avg loss: 2.268838 \n",
            "\n",
            "Epoch 7\n",
            "-------------------------------\n",
            "loss: 2.267401  [ 2048/60000]\n",
            "Test Error: \n",
            " Accuracy: 22.4%, Avg loss: 2.264393 \n",
            "\n",
            "Epoch 8\n",
            "-------------------------------\n",
            "loss: 2.262943  [ 2048/60000]\n",
            "Test Error: \n",
            " Accuracy: 23.7%, Avg loss: 2.259937 \n",
            "\n",
            "Epoch 9\n",
            "-------------------------------\n",
            "loss: 2.258473  [ 2048/60000]\n",
            "Test Error: \n",
            " Accuracy: 25.2%, Avg loss: 2.255461 \n",
            "\n",
            "Epoch 10\n",
            "-------------------------------\n",
            "loss: 2.253985  [ 2048/60000]\n",
            "Test Error: \n",
            " Accuracy: 26.5%, Avg loss: 2.250959 \n",
            "\n",
            "Epoch 11\n",
            "-------------------------------\n",
            "loss: 2.249475  [ 2048/60000]\n",
            "Test Error: \n",
            " Accuracy: 27.9%, Avg loss: 2.246423 \n",
            "\n",
            "Epoch 12\n",
            "-------------------------------\n",
            "loss: 2.244931  [ 2048/60000]\n",
            "Test Error: \n",
            " Accuracy: 29.2%, Avg loss: 2.241843 \n",
            "\n",
            "Epoch 13\n",
            "-------------------------------\n",
            "loss: 2.240336  [ 2048/60000]\n",
            "Test Error: \n",
            " Accuracy: 30.6%, Avg loss: 2.237209 \n",
            "\n",
            "Epoch 14\n",
            "-------------------------------\n",
            "loss: 2.235687  [ 2048/60000]\n",
            "Test Error: \n",
            " Accuracy: 31.8%, Avg loss: 2.232515 \n",
            "\n",
            "Epoch 15\n",
            "-------------------------------\n",
            "loss: 2.230975  [ 2048/60000]\n",
            "Test Error: \n",
            " Accuracy: 33.0%, Avg loss: 2.227751 \n",
            "\n",
            "Epoch 16\n",
            "-------------------------------\n",
            "loss: 2.226187  [ 2048/60000]\n",
            "Test Error: \n",
            " Accuracy: 33.9%, Avg loss: 2.222914 \n",
            "\n",
            "Epoch 17\n",
            "-------------------------------\n",
            "loss: 2.221319  [ 2048/60000]\n",
            "Test Error: \n",
            " Accuracy: 35.1%, Avg loss: 2.217997 \n",
            "\n",
            "Epoch 18\n",
            "-------------------------------\n",
            "loss: 2.216371  [ 2048/60000]\n",
            "Test Error: \n",
            " Accuracy: 36.2%, Avg loss: 2.212992 \n",
            "\n",
            "Epoch 19\n",
            "-------------------------------\n",
            "loss: 2.211334  [ 2048/60000]\n",
            "Test Error: \n",
            " Accuracy: 37.2%, Avg loss: 2.207898 \n",
            "\n",
            "Epoch 20\n",
            "-------------------------------\n",
            "loss: 2.206206  [ 2048/60000]\n",
            "Test Error: \n",
            " Accuracy: 38.1%, Avg loss: 2.202709 \n",
            "\n",
            "Done!\n"
          ]
        }
      ],
      "source": [
        "\n",
        "for t in range(epochs):\n",
        "    print(f\"Epoch {t+1}\\n-------------------------------\")\n",
        "    train_loop(train_dataloader, model, loss_fn, optimizer1)\n",
        "    test_loop(test_dataloader, model, loss_fn)\n",
        "print(\"Done!\")"
      ]
    },
    {
      "cell_type": "code",
      "source": [
        "for t in range(epochs):\n",
        "    print(f\"Epoch {t+1}\\n-------------------------------\")\n",
        "    train_loop(train_dataloader, model, loss_fn, optimizer2)\n",
        "    test_loop(test_dataloader, model, loss_fn)\n",
        "print(\"Done!\")"
      ],
      "metadata": {
        "colab": {
          "base_uri": "https://localhost:8080/"
        },
        "id": "6mj55pWoj-1Y",
        "outputId": "8425f6ca-ac96-49cd-cfde-f06468162501"
      },
      "execution_count": 27,
      "outputs": [
        {
          "output_type": "stream",
          "name": "stdout",
          "text": [
            "Epoch 1\n",
            "-------------------------------\n",
            "loss: 2.200982  [ 2048/60000]\n",
            "Test Error: \n",
            " Accuracy: 77.7%, Avg loss: 0.609101 \n",
            "\n",
            "Epoch 2\n",
            "-------------------------------\n",
            "loss: 0.578909  [ 2048/60000]\n",
            "Test Error: \n",
            " Accuracy: 81.5%, Avg loss: 0.504576 \n",
            "\n",
            "Epoch 3\n",
            "-------------------------------\n",
            "loss: 0.459445  [ 2048/60000]\n",
            "Test Error: \n",
            " Accuracy: 83.5%, Avg loss: 0.461036 \n",
            "\n",
            "Epoch 4\n",
            "-------------------------------\n",
            "loss: 0.411737  [ 2048/60000]\n",
            "Test Error: \n",
            " Accuracy: 84.5%, Avg loss: 0.433644 \n",
            "\n",
            "Epoch 5\n",
            "-------------------------------\n",
            "loss: 0.382717  [ 2048/60000]\n",
            "Test Error: \n",
            " Accuracy: 85.4%, Avg loss: 0.405628 \n",
            "\n",
            "Epoch 6\n",
            "-------------------------------\n",
            "loss: 0.353468  [ 2048/60000]\n",
            "Test Error: \n",
            " Accuracy: 86.1%, Avg loss: 0.388474 \n",
            "\n",
            "Epoch 7\n",
            "-------------------------------\n",
            "loss: 0.334933  [ 2048/60000]\n",
            "Test Error: \n",
            " Accuracy: 86.5%, Avg loss: 0.376030 \n",
            "\n",
            "Epoch 8\n",
            "-------------------------------\n",
            "loss: 0.322334  [ 2048/60000]\n",
            "Test Error: \n",
            " Accuracy: 86.9%, Avg loss: 0.366672 \n",
            "\n",
            "Epoch 9\n",
            "-------------------------------\n",
            "loss: 0.310986  [ 2048/60000]\n",
            "Test Error: \n",
            " Accuracy: 87.2%, Avg loss: 0.359522 \n",
            "\n",
            "Epoch 10\n",
            "-------------------------------\n",
            "loss: 0.301959  [ 2048/60000]\n",
            "Test Error: \n",
            " Accuracy: 87.4%, Avg loss: 0.355145 \n",
            "\n",
            "Epoch 11\n",
            "-------------------------------\n",
            "loss: 0.293645  [ 2048/60000]\n",
            "Test Error: \n",
            " Accuracy: 87.6%, Avg loss: 0.348359 \n",
            "\n",
            "Epoch 12\n",
            "-------------------------------\n",
            "loss: 0.281809  [ 2048/60000]\n",
            "Test Error: \n",
            " Accuracy: 87.8%, Avg loss: 0.344321 \n",
            "\n",
            "Epoch 13\n",
            "-------------------------------\n",
            "loss: 0.273693  [ 2048/60000]\n",
            "Test Error: \n",
            " Accuracy: 88.0%, Avg loss: 0.339354 \n",
            "\n",
            "Epoch 14\n",
            "-------------------------------\n",
            "loss: 0.265693  [ 2048/60000]\n",
            "Test Error: \n",
            " Accuracy: 88.1%, Avg loss: 0.335623 \n",
            "\n",
            "Epoch 15\n",
            "-------------------------------\n",
            "loss: 0.258949  [ 2048/60000]\n",
            "Test Error: \n",
            " Accuracy: 88.3%, Avg loss: 0.333561 \n",
            "\n",
            "Epoch 16\n",
            "-------------------------------\n",
            "loss: 0.252935  [ 2048/60000]\n",
            "Test Error: \n",
            " Accuracy: 87.9%, Avg loss: 0.338517 \n",
            "\n",
            "Epoch 17\n",
            "-------------------------------\n",
            "loss: 0.252683  [ 2048/60000]\n",
            "Test Error: \n",
            " Accuracy: 87.8%, Avg loss: 0.348845 \n",
            "\n",
            "Epoch 18\n",
            "-------------------------------\n",
            "loss: 0.256203  [ 2048/60000]\n",
            "Test Error: \n",
            " Accuracy: 88.2%, Avg loss: 0.336272 \n",
            "\n",
            "Epoch 19\n",
            "-------------------------------\n",
            "loss: 0.240733  [ 2048/60000]\n",
            "Test Error: \n",
            " Accuracy: 88.4%, Avg loss: 0.324860 \n",
            "\n",
            "Epoch 20\n",
            "-------------------------------\n",
            "loss: 0.226976  [ 2048/60000]\n",
            "Test Error: \n",
            " Accuracy: 88.4%, Avg loss: 0.325560 \n",
            "\n",
            "Done!\n"
          ]
        }
      ]
    },
    {
      "cell_type": "code",
      "source": [
        "\n",
        "for t in range(epochs):\n",
        "    print(f\"Epoch {t+1}\\n-------------------------------\")\n",
        "    train_loop(train_dataloader, model, loss_fn, optimizer3)\n",
        "    test_loop(test_dataloader, model, loss_fn)\n",
        "print(\"Done!\")"
      ],
      "metadata": {
        "colab": {
          "base_uri": "https://localhost:8080/"
        },
        "id": "A9p5z6sZkDaB",
        "outputId": "9d020881-3baa-498f-f52c-acc23295fdd3"
      },
      "execution_count": 39,
      "outputs": [
        {
          "output_type": "stream",
          "name": "stdout",
          "text": [
            "Epoch 1\n",
            "-------------------------------\n",
            "loss: 0.062024  [ 2048/60000]\n",
            "Test Error: \n",
            " Accuracy: 89.2%, Avg loss: 0.450177 \n",
            "\n",
            "Epoch 2\n",
            "-------------------------------\n",
            "loss: 0.063572  [ 2048/60000]\n",
            "Test Error: \n",
            " Accuracy: 89.2%, Avg loss: 0.455957 \n",
            "\n",
            "Epoch 3\n",
            "-------------------------------\n",
            "loss: 0.059535  [ 2048/60000]\n",
            "Test Error: \n",
            " Accuracy: 89.2%, Avg loss: 0.462431 \n",
            "\n",
            "Epoch 4\n",
            "-------------------------------\n",
            "loss: 0.061663  [ 2048/60000]\n",
            "Test Error: \n",
            " Accuracy: 89.0%, Avg loss: 0.483463 \n",
            "\n",
            "Epoch 5\n",
            "-------------------------------\n",
            "loss: 0.071416  [ 2048/60000]\n",
            "Test Error: \n",
            " Accuracy: 87.9%, Avg loss: 0.548883 \n",
            "\n",
            "Epoch 6\n",
            "-------------------------------\n",
            "loss: 0.117008  [ 2048/60000]\n",
            "Test Error: \n",
            " Accuracy: 88.4%, Avg loss: 0.506068 \n",
            "\n",
            "Epoch 7\n",
            "-------------------------------\n",
            "loss: 0.080547  [ 2048/60000]\n",
            "Test Error: \n",
            " Accuracy: 88.9%, Avg loss: 0.499909 \n",
            "\n",
            "Epoch 8\n",
            "-------------------------------\n",
            "loss: 0.066490  [ 2048/60000]\n",
            "Test Error: \n",
            " Accuracy: 88.9%, Avg loss: 0.510123 \n",
            "\n",
            "Epoch 9\n",
            "-------------------------------\n",
            "loss: 0.062749  [ 2048/60000]\n",
            "Test Error: \n",
            " Accuracy: 88.5%, Avg loss: 0.543579 \n",
            "\n",
            "Epoch 10\n",
            "-------------------------------\n",
            "loss: 0.073402  [ 2048/60000]\n",
            "Test Error: \n",
            " Accuracy: 88.7%, Avg loss: 0.528095 \n",
            "\n",
            "Done!\n"
          ]
        }
      ]
    },
    {
      "cell_type": "code",
      "source": [
        "model2 = NeuralNetwork().to(device)\n",
        "model2.load_state_dict(torch.load('model_weight.pth'))\n",
        "model2.eval()\n",
        "torch.save(model2, 'model.pth')"
      ],
      "metadata": {
        "id": "dhIKXqgrqkh5"
      },
      "execution_count": 40,
      "outputs": []
    }
  ],
  "metadata": {
    "colab": {
      "provenance": [],
      "gpuType": "T4"
    },
    "kernelspec": {
      "display_name": "Python (venv)",
      "language": "python",
      "name": "venv"
    },
    "language_info": {
      "codemirror_mode": {
        "name": "ipython",
        "version": 3
      },
      "file_extension": ".py",
      "mimetype": "text/x-python",
      "name": "python",
      "nbconvert_exporter": "python",
      "pygments_lexer": "ipython3",
      "version": "3.10.14"
    },
    "accelerator": "GPU"
  },
  "nbformat": 4,
  "nbformat_minor": 0
}