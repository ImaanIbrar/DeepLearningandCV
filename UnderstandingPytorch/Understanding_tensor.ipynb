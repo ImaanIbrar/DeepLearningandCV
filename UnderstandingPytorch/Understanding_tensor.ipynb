{
  "cells": [
    {
      "cell_type": "code",
      "source": [
        "%pwd"
      ],
      "metadata": {
        "id": "QNhYHB1AG7s6",
        "outputId": "788a958a-991f-4a59-eb51-d155d705f430",
        "colab": {
          "base_uri": "https://localhost:8080/",
          "height": 36
        }
      },
      "execution_count": 2,
      "outputs": [
        {
          "output_type": "execute_result",
          "data": {
            "text/plain": [
              "'/content'"
            ],
            "application/vnd.google.colaboratory.intrinsic+json": {
              "type": "string"
            }
          },
          "metadata": {},
          "execution_count": 2
        }
      ]
    },
    {
      "cell_type": "code",
      "source": [
        "%ls"
      ],
      "metadata": {
        "id": "gQQRMBABHAFp",
        "outputId": "5bd255cb-293d-4115-b5ba-74a1134d5453",
        "colab": {
          "base_uri": "https://localhost:8080/"
        }
      },
      "execution_count": 3,
      "outputs": [
        {
          "output_type": "stream",
          "name": "stdout",
          "text": [
            "\u001b[0m\u001b[01;34msample_data\u001b[0m/\n"
          ]
        }
      ]
    },
    {
      "cell_type": "code",
      "source": [
        "%mkdir learningtensor"
      ],
      "metadata": {
        "id": "0qR_Oq9vHB4m"
      },
      "execution_count": 4,
      "outputs": []
    },
    {
      "cell_type": "code",
      "source": [
        "%cd\n"
      ],
      "metadata": {
        "id": "QduQKm5FHIwX",
        "outputId": "c1736af1-d7ab-4158-86cb-f399c50583e5",
        "colab": {
          "base_uri": "https://localhost:8080/"
        }
      },
      "execution_count": 9,
      "outputs": [
        {
          "output_type": "stream",
          "name": "stdout",
          "text": [
            "/root\n"
          ]
        }
      ]
    },
    {
      "cell_type": "code",
      "source": [
        "%cd /content/learningtensor"
      ],
      "metadata": {
        "id": "F7nHHbpwHxJO",
        "outputId": "bf92eb97-6ca2-4e83-83d7-b6819989dbe6",
        "colab": {
          "base_uri": "https://localhost:8080/"
        }
      },
      "execution_count": 10,
      "outputs": [
        {
          "output_type": "stream",
          "name": "stdout",
          "text": [
            "/content/learningtensor\n"
          ]
        }
      ]
    },
    {
      "cell_type": "code",
      "source": [
        "%pwd"
      ],
      "metadata": {
        "id": "T3ru3gPCH3rv",
        "outputId": "a8f33c72-82ca-414c-8fac-e051220d81c6",
        "colab": {
          "base_uri": "https://localhost:8080/",
          "height": 36
        }
      },
      "execution_count": 14,
      "outputs": [
        {
          "output_type": "execute_result",
          "data": {
            "text/plain": [
              "'/content/learningtensor'"
            ],
            "application/vnd.google.colaboratory.intrinsic+json": {
              "type": "string"
            }
          },
          "metadata": {},
          "execution_count": 14
        }
      ]
    },
    {
      "cell_type": "code",
      "execution_count": 12,
      "metadata": {
        "id": "-AtXdCyOFxTb"
      },
      "outputs": [],
      "source": [
        "# For tips on running notebooks in Google Colab, see\n",
        "# https://pytorch.org/tutorials/beginner/colab\n",
        "%matplotlib inline"
      ]
    },
    {
      "cell_type": "markdown",
      "metadata": {
        "id": "RZKze1hGFxTd"
      },
      "source": [
        "[Learn the Basics](intro.html) \\|\\|\n",
        "[Quickstart](quickstart_tutorial.html) \\|\\| **Tensors** \\|\\| [Datasets &\n",
        "DataLoaders](data_tutorial.html) \\|\\|\n",
        "[Transforms](transforms_tutorial.html) \\|\\| [Build\n",
        "Model](buildmodel_tutorial.html) \\|\\|\n",
        "[Autograd](autogradqs_tutorial.html) \\|\\|\n",
        "[Optimization](optimization_tutorial.html) \\|\\| [Save & Load\n",
        "Model](saveloadrun_tutorial.html)\n",
        "\n",
        "Tensors\n",
        "=======\n",
        "\n",
        "Tensors are a specialized data structure that are very similar to arrays\n",
        "and matrices. In PyTorch, we use tensors to encode the inputs and\n",
        "outputs of a model, as well as the model's parameters.\n",
        "\n",
        "Tensors are similar to [NumPy's](https://numpy.org/) ndarrays, except\n",
        "that tensors can run on GPUs or other hardware accelerators. In fact,\n",
        "tensors and NumPy arrays can often share the same underlying memory,\n",
        "eliminating the need to copy data (see\n",
        "`bridge-to-np-label`{.interpreted-text role=\"ref\"}). Tensors are also\n",
        "optimized for automatic differentiation (we\\'ll see more about that\n",
        "later in the [Autograd](autogradqs_tutorial.html) section). If you're\n",
        "familiar with ndarrays, you'll be right at home with the Tensor API. If\n",
        "not, follow along!\n"
      ]
    },
    {
      "cell_type": "code",
      "execution_count": 2,
      "metadata": {
        "id": "4L0B99vMFxTg"
      },
      "outputs": [],
      "source": [
        "import torch\n",
        "import numpy as np"
      ]
    },
    {
      "cell_type": "markdown",
      "metadata": {
        "id": "YUFVGHmuFxTh"
      },
      "source": [
        "Initializing a Tensor\n",
        "=====================\n",
        "\n",
        "Tensors can be initialized in various ways. Take a look at the following\n",
        "examples:\n",
        "\n",
        "**Directly from data**\n",
        "\n",
        "Tensors can be created directly from data. The data type is\n",
        "automatically inferred.\n"
      ]
    },
    {
      "cell_type": "code",
      "execution_count": 16,
      "metadata": {
        "id": "j3YgMydLFxTh"
      },
      "outputs": [],
      "source": [
        "data = [[1, 2],[3, 4]]\n",
        "x_data = torch.tensor(data)"
      ]
    },
    {
      "cell_type": "code",
      "source": [
        "mydata= [[1,2,3],[4,5,6],[7,8,9]]\n",
        "mytensor=torch.tensor(mydata)\n",
        "print(mytensor)\n",
        "print(mytensor.dtype)"
      ],
      "metadata": {
        "id": "_0uXZzt3GcLc",
        "outputId": "307dc9f7-0d56-4fd9-93fb-487223227e17",
        "colab": {
          "base_uri": "https://localhost:8080/"
        }
      },
      "execution_count": 18,
      "outputs": [
        {
          "output_type": "stream",
          "name": "stdout",
          "text": [
            "tensor([[1, 2, 3],\n",
            "        [4, 5, 6],\n",
            "        [7, 8, 9]])\n",
            "torch.int64\n"
          ]
        }
      ]
    },
    {
      "cell_type": "markdown",
      "metadata": {
        "id": "dVviKXbFFxTi"
      },
      "source": [
        "**From a NumPy array**\n",
        "\n",
        "Tensors can be created from NumPy arrays (and vice versa - see\n",
        "`bridge-to-np-label`{.interpreted-text role=\"ref\"}).\n"
      ]
    },
    {
      "cell_type": "code",
      "execution_count": null,
      "metadata": {
        "id": "qk4WCd5HFxTi"
      },
      "outputs": [],
      "source": [
        "np_array = np.array(data)\n",
        "x_np = torch.from_numpy(np_array)"
      ]
    },
    {
      "cell_type": "code",
      "source": [
        "data2=(1,2,3,4,5,6)\n",
        "npArray = np.array(data2)\n",
        "tensordata=torch.tensor(data2)\n",
        "print(npArray)\n",
        "print(tensordata)\n",
        "\n",
        "npArray2 = np.array(mydata)\n",
        "print(npArray2)\n",
        "tensordata2=torch.tensor(npArray2)\n",
        "print(tensordata2)\n",
        "\n",
        "npArray3= np.array([[1,2,3],[4,5,6],[7,8,9]])\n",
        "\n",
        "tensordata3= torch.from_numpy(npArray3)\n",
        "print(tensordata3)\n",
        "\n"
      ],
      "metadata": {
        "id": "mumCFi47IMQE",
        "outputId": "ddcb362d-da6d-4473-b26f-a830e9f21c64",
        "colab": {
          "base_uri": "https://localhost:8080/"
        }
      },
      "execution_count": 27,
      "outputs": [
        {
          "output_type": "stream",
          "name": "stdout",
          "text": [
            "[1 2 3 4 5 6]\n",
            "tensor([1, 2, 3, 4, 5, 6])\n",
            "[[1 2 3]\n",
            " [4 5 6]\n",
            " [7 8 9]]\n",
            "tensor([[1, 2, 3],\n",
            "        [4, 5, 6],\n",
            "        [7, 8, 9]])\n",
            "tensor([[1, 2, 3],\n",
            "        [4, 5, 6],\n",
            "        [7, 8, 9]])\n"
          ]
        }
      ]
    },
    {
      "cell_type": "markdown",
      "metadata": {
        "id": "cAIYffBIFxTj"
      },
      "source": [
        "**From another tensor:**\n",
        "\n",
        "The new tensor retains the properties (shape, datatype) of the argument\n",
        "tensor, unless explicitly overridden.\n"
      ]
    },
    {
      "cell_type": "code",
      "execution_count": 43,
      "metadata": {
        "id": "kjam0INbFxTj",
        "outputId": "a87f4d01-b579-415c-a7bb-3d611c3584cb",
        "colab": {
          "base_uri": "https://localhost:8080/"
        }
      },
      "outputs": [
        {
          "output_type": "stream",
          "name": "stdout",
          "text": [
            "tensor([[1, 2],\n",
            "        [3, 4]])\n",
            "Ones Tensor: \n",
            " tensor([[1, 1],\n",
            "        [1, 1]]) \n",
            "\n",
            "Random Tensor: \n",
            " tensor([[0.8586, 0.7185],\n",
            "        [0.0908, 0.6454]]) \n",
            "\n"
          ]
        }
      ],
      "source": [
        "print(x_data)\n",
        "x_ones = torch.ones_like(x_data) # retains the properties of x_data\n",
        "print(f\"Ones Tensor: \\n {x_ones} \\n\")\n",
        "\n",
        "x_rand = torch.rand_like(x_data, dtype=torch.float) # overrides the datatype of x_data\n",
        "print(f\"Random Tensor: \\n {x_rand} \\n\")\n"
      ]
    },
    {
      "cell_type": "markdown",
      "source": [
        "checking of shape of **tensor**"
      ],
      "metadata": {
        "id": "c0mYjCEwMQlk"
      }
    },
    {
      "cell_type": "code",
      "source": [
        "print(x_rand.size())"
      ],
      "metadata": {
        "id": "QjDof8SwMWSn"
      },
      "execution_count": null,
      "outputs": []
    },
    {
      "cell_type": "code",
      "source": [
        "random = torch.rand_like(tensordata2, dtype=torch.float)\n",
        "print(random)"
      ],
      "metadata": {
        "id": "KNLIrK9JKtMV",
        "outputId": "242c8e3c-68a1-4227-b318-c469072d27e8",
        "colab": {
          "base_uri": "https://localhost:8080/"
        }
      },
      "execution_count": 38,
      "outputs": [
        {
          "output_type": "stream",
          "name": "stdout",
          "text": [
            "tensor([[0.2489, 0.5853, 0.6146],\n",
            "        [0.9033, 0.7562, 0.0108],\n",
            "        [0.9546, 0.6777, 0.0093]])\n"
          ]
        }
      ]
    },
    {
      "cell_type": "markdown",
      "metadata": {
        "id": "sKal-Z55FxTj"
      },
      "source": [
        "**With random or constant values:**\n",
        "\n",
        "`shape` is a tuple of tensor dimensions. In the functions below, it\n",
        "determines the dimensionality of the output tensor.\n"
      ]
    },
    {
      "cell_type": "code",
      "execution_count": 45,
      "metadata": {
        "id": "9WY-ekRaFxTk",
        "outputId": "0250ea65-1d61-47d2-8aa4-28f3fde655d6",
        "colab": {
          "base_uri": "https://localhost:8080/"
        }
      },
      "outputs": [
        {
          "output_type": "stream",
          "name": "stdout",
          "text": [
            "tensor([[0.1756, 0.4682, 0.0647],\n",
            "        [0.0480, 0.9199, 0.3284]])\n",
            "Random Tensor: \n",
            " tensor([[0.1756, 0.4682, 0.0647],\n",
            "        [0.0480, 0.9199, 0.3284]]) \n",
            "\n",
            "Ones Tensor: \n",
            " tensor([[1., 1., 1.],\n",
            "        [1., 1., 1.]]) \n",
            "\n",
            "Zeros Tensor: \n",
            " tensor([[0., 0., 0.],\n",
            "        [0., 0., 0.]])\n"
          ]
        }
      ],
      "source": [
        "shape = (2,3,)\n",
        "rand_tensor = torch.rand(shape)\n",
        "ones_tensor = torch.ones(shape)\n",
        "zeros_tensor = torch.zeros(shape)\n",
        "\n",
        "print( rand_tensor)\n",
        "\n",
        "\n",
        "print(f\"Random Tensor: \\n {rand_tensor} \\n\")\n",
        "print(f\"Ones Tensor: \\n {ones_tensor} \\n\")\n",
        "print(f\"Zeros Tensor: \\n {zeros_tensor}\")"
      ]
    },
    {
      "cell_type": "markdown",
      "metadata": {
        "id": "C1KUwZ62FxTl"
      },
      "source": [
        "------------------------------------------------------------------------\n"
      ]
    },
    {
      "cell_type": "markdown",
      "metadata": {
        "id": "amuWQ_YgFxTl"
      },
      "source": [
        "Attributes of a Tensor\n",
        "======================\n",
        "\n",
        "Tensor attributes describe their shape, datatype, and the device on\n",
        "which they are stored.\n"
      ]
    },
    {
      "cell_type": "code",
      "execution_count": 4,
      "metadata": {
        "id": "RrokRPhfFxTl",
        "outputId": "d47affe8-8da1-4fe8-f133-747218555053",
        "colab": {
          "base_uri": "https://localhost:8080/"
        }
      },
      "outputs": [
        {
          "output_type": "stream",
          "name": "stdout",
          "text": [
            "torch.Size([3, 4])\n",
            "torch.Size([3, 4])\n",
            "Shape of tensor: torch.Size([3, 4])\n",
            "Datatype of tensor: torch.float32\n",
            "Device tensor is stored on: cpu\n"
          ]
        }
      ],
      "source": [
        "tensor = torch.rand(3,4)\n",
        "print(tensor.size())\n",
        "print(tensor.shape)\n",
        "print(f\"Shape of tensor: {tensor.shape}\")\n",
        "print(f\"Datatype of tensor: {tensor.dtype}\")\n",
        "print(f\"Device tensor is stored on: {tensor.device}\")"
      ]
    },
    {
      "cell_type": "markdown",
      "metadata": {
        "id": "Z7v3dPreFxTm"
      },
      "source": [
        "------------------------------------------------------------------------\n"
      ]
    },
    {
      "cell_type": "markdown",
      "metadata": {
        "id": "eqfym_OFFxTm"
      },
      "source": [
        "Operations on Tensors\n",
        "=====================\n",
        "\n",
        "Over 100 tensor operations, including arithmetic, linear algebra, matrix\n",
        "manipulation (transposing, indexing, slicing), sampling and more are\n",
        "comprehensively described\n",
        "[here](https://pytorch.org/docs/stable/torch.html).\n",
        "\n",
        "Each of these operations can be run on the GPU (at typically higher\n",
        "speeds than on a CPU). If you're using Colab, allocate a GPU by going to\n",
        "Runtime \\> Change runtime type \\> GPU.\n",
        "\n",
        "By default, tensors are created on the CPU. We need to explicitly move\n",
        "tensors to the GPU using `.to` method (after checking for GPU\n",
        "availability). Keep in mind that copying large tensors across devices\n",
        "can be expensive in terms of time and memory!\n"
      ]
    },
    {
      "cell_type": "code",
      "execution_count": 5,
      "metadata": {
        "id": "SUb5s0LUFxTm"
      },
      "outputs": [],
      "source": [
        "# We move our tensor to the GPU if available\n",
        "if torch.cuda.is_available():\n",
        "    tensor = tensor.to(\"cuda\")"
      ]
    },
    {
      "cell_type": "markdown",
      "source": [
        "# CUDA is NVIDIA's parallel computing architecture that enables dramatic increases in computing performance by harnessing the power of the GPU to speed up the most demanding tasks you run on your PC."
      ],
      "metadata": {
        "id": "edJhZLYkON7t"
      }
    },
    {
      "cell_type": "code",
      "source": [],
      "metadata": {
        "id": "grKAjBEgOMap"
      },
      "execution_count": null,
      "outputs": []
    },
    {
      "cell_type": "markdown",
      "metadata": {
        "id": "Ynwc9hpqFxTn"
      },
      "source": [
        "Try out some of the operations from the list. If you\\'re familiar with\n",
        "the NumPy API, you\\'ll find the Tensor API a breeze to use.\n"
      ]
    },
    {
      "cell_type": "markdown",
      "metadata": {
        "id": "NDQktbCtFxTn"
      },
      "source": [
        "**Standard numpy-like indexing and slicing:**\n"
      ]
    },
    {
      "cell_type": "code",
      "execution_count": 10,
      "metadata": {
        "id": "OG_W8rqmFxTn",
        "outputId": "a4a1eb9e-43d8-4200-e67e-11f871192985",
        "colab": {
          "base_uri": "https://localhost:8080/"
        }
      },
      "outputs": [
        {
          "output_type": "stream",
          "name": "stdout",
          "text": [
            "tensor([[0.1198, 0.2907, 0.9950, 0.4033],\n",
            "        [0.3619, 0.1539, 0.8862, 0.8253],\n",
            "        [0.7920, 0.5463, 0.3965, 0.6667],\n",
            "        [0.1560, 0.0712, 0.3502, 0.7952]])\n",
            "First element tensor(0.1198)\n",
            "First row: tensor([0.1198, 0.2907, 0.9950, 0.4033])\n",
            "First column: tensor([0.1198, 0.3619, 0.7920, 0.1560])\n",
            "First column another way tensor([0.1198, 0.3619, 0.7920, 0.1560])\n",
            "Last column: tensor([0.4033, 0.8253, 0.6667, 0.7952])\n",
            "tensor([[0.1198, 0.0000, 0.9950, 0.4033],\n",
            "        [0.3619, 0.0000, 0.8862, 0.8253],\n",
            "        [0.7920, 0.0000, 0.3965, 0.6667],\n",
            "        [0.1560, 0.0000, 0.3502, 0.7952]])\n"
          ]
        }
      ],
      "source": [
        "tensor = torch.rand(4, 4)\n",
        "print(tensor)\n",
        "print(\"First element\", tensor[0][0])\n",
        "print(f\"First row: {tensor[0]}\")\n",
        "print(f\"First column: {tensor[:, 0]}\")\n",
        "print(\"First column another way\", tensor[...,0])\n",
        "print(f\"Last column: {tensor[:, -1]}\")\n",
        "\n",
        "\n",
        "tensor[:,1] = 0\n",
        "print(tensor)"
      ]
    },
    {
      "cell_type": "markdown",
      "metadata": {
        "id": "VA1oe-yLFxTo"
      },
      "source": [
        "**Joining tensors** You can use `torch.cat` to concatenate a sequence of\n",
        "tensors along a given dimension. See also\n",
        "[torch.stack](https://pytorch.org/docs/stable/generated/torch.stack.html),\n",
        "another tensor joining operator that is subtly different from\n",
        "`torch.cat`.\n"
      ]
    },
    {
      "cell_type": "code",
      "execution_count": 15,
      "metadata": {
        "id": "eRjK9S4sFxTo",
        "outputId": "65cd8c95-dc80-4ba8-fec0-a632c72d9276",
        "colab": {
          "base_uri": "https://localhost:8080/"
        }
      },
      "outputs": [
        {
          "output_type": "stream",
          "name": "stdout",
          "text": [
            "tensor([[0.1198, 0.0000, 0.9950, 0.4033, 0.1198, 0.0000, 0.9950, 0.4033, 0.1198,\n",
            "         0.0000, 0.9950, 0.4033],\n",
            "        [0.3619, 0.0000, 0.8862, 0.8253, 0.3619, 0.0000, 0.8862, 0.8253, 0.3619,\n",
            "         0.0000, 0.8862, 0.8253],\n",
            "        [0.7920, 0.0000, 0.3965, 0.6667, 0.7920, 0.0000, 0.3965, 0.6667, 0.7920,\n",
            "         0.0000, 0.3965, 0.6667],\n",
            "        [0.1560, 0.0000, 0.3502, 0.7952, 0.1560, 0.0000, 0.3502, 0.7952, 0.1560,\n",
            "         0.0000, 0.3502, 0.7952]])\n",
            "torch.Size([4, 12])\n"
          ]
        }
      ],
      "source": [
        "t1 = torch.cat([tensor, tensor, tensor], dim=1)\n",
        "print(t1)\n",
        "print(t1.shape)"
      ]
    },
    {
      "cell_type": "markdown",
      "metadata": {
        "id": "Uzu3E3mHFxTp"
      },
      "source": [
        "**Arithmetic operations**\n"
      ]
    },
    {
      "cell_type": "code",
      "execution_count": 17,
      "metadata": {
        "id": "wYhBMaC7FxTp",
        "outputId": "6d46e841-6f01-473c-a11a-77ab4734dd90",
        "colab": {
          "base_uri": "https://localhost:8080/"
        }
      },
      "outputs": [
        {
          "output_type": "stream",
          "name": "stdout",
          "text": [
            "tensor([[0.1198, 0.0000, 0.9950, 0.4033],\n",
            "        [0.3619, 0.0000, 0.8862, 0.8253],\n",
            "        [0.7920, 0.0000, 0.3965, 0.6667],\n",
            "        [0.1560, 0.0000, 0.3502, 0.7952]])\n",
            "tensor([[1.1670, 1.2580, 0.7583, 0.6879],\n",
            "        [1.2580, 1.5974, 1.1882, 1.0231],\n",
            "        [0.7583, 1.1882, 1.2289, 0.7925],\n",
            "        [0.6879, 1.0231, 0.7925, 0.7793]])\n"
          ]
        },
        {
          "output_type": "execute_result",
          "data": {
            "text/plain": [
              "tensor([[0.0144, 0.0000, 0.9901, 0.1626],\n",
              "        [0.1310, 0.0000, 0.7854, 0.6811],\n",
              "        [0.6272, 0.0000, 0.1572, 0.4444],\n",
              "        [0.0243, 0.0000, 0.1227, 0.6323]])"
            ]
          },
          "metadata": {},
          "execution_count": 17
        }
      ],
      "source": [
        "# This computes the matrix multiplication between two tensors. y1, y2, y3 will have the same value\n",
        "# ``tensor.T`` returns the transpose of a tensor\n",
        "y1 = tensor @ tensor.T #python way of doing matric multiplication\n",
        "\n",
        "y2 = tensor.matmul(tensor.T)\n",
        "\n",
        "y3 = torch.rand_like(y1)\n",
        "torch.matmul(tensor, tensor.T, out=y3) #stores result in y3\n",
        "\n",
        "\n",
        "# This computes the element-wise product. z1, z2, z3 will have the same value\n",
        "z1 = tensor * tensor\n",
        "z2 = tensor.mul(tensor)\n",
        "\n",
        "z3 = torch.rand_like(tensor)\n",
        "torch.mul(tensor, tensor, out=z3)"
      ]
    },
    {
      "cell_type": "markdown",
      "metadata": {
        "id": "-5koV9jUFxTp"
      },
      "source": [
        "**Single-element tensors** If you have a one-element tensor, for example\n",
        "by aggregating all values of a tensor into one value, you can convert it\n",
        "to a Python numerical value using `item()`:\n"
      ]
    },
    {
      "cell_type": "code",
      "execution_count": 20,
      "metadata": {
        "id": "dnWcdoLNFxTp",
        "outputId": "88e2ce18-29a3-40a9-d76a-4f27ef6b1620",
        "colab": {
          "base_uri": "https://localhost:8080/"
        }
      },
      "outputs": [
        {
          "output_type": "stream",
          "name": "stdout",
          "text": [
            "tensor([[0.1198, 0.0000, 0.9950, 0.4033],\n",
            "        [0.3619, 0.0000, 0.8862, 0.8253],\n",
            "        [0.7920, 0.0000, 0.3965, 0.6667],\n",
            "        [0.1560, 0.0000, 0.3502, 0.7952]])\n",
            "tensor(6.7481)\n",
            "6.748071670532227 <class 'float'>\n"
          ]
        }
      ],
      "source": [
        "print(tensor)\n",
        "agg = tensor.sum()\n",
        "print(agg)\n",
        "agg_item = agg.item()\n",
        "print(agg_item, type(agg_item))"
      ]
    },
    {
      "cell_type": "markdown",
      "metadata": {
        "id": "g9fuEsmxFxTq"
      },
      "source": [
        "**In-place operations** Operations that store the result into the\n",
        "operand are called in-place. They are denoted by a `_` suffix. For\n",
        "example: `x.copy_(y)`, `x.t_()`, will change `x`.\n"
      ]
    },
    {
      "cell_type": "code",
      "execution_count": 23,
      "metadata": {
        "id": "Og3kHD-BFxTq",
        "outputId": "349127d3-fd49-48dd-c408-140a340795ef",
        "colab": {
          "base_uri": "https://localhost:8080/"
        }
      },
      "outputs": [
        {
          "output_type": "stream",
          "name": "stdout",
          "text": [
            "tensor([[5.1198, 5.0000, 5.9950, 5.4033],\n",
            "        [5.3619, 5.0000, 5.8862, 5.8253],\n",
            "        [5.7920, 5.0000, 5.3965, 5.6667],\n",
            "        [5.1560, 5.0000, 5.3502, 5.7952]]) \n",
            "\n",
            "tensor([[10.1198, 10.0000, 10.9950, 10.4033],\n",
            "        [10.3619, 10.0000, 10.8862, 10.8253],\n",
            "        [10.7920, 10.0000, 10.3965, 10.6667],\n",
            "        [10.1560, 10.0000, 10.3502, 10.7952]])\n"
          ]
        }
      ],
      "source": [
        "print(f\"{tensor} \\n\")\n",
        "tensor.add_(5)\n",
        "print(tensor)"
      ]
    },
    {
      "cell_type": "markdown",
      "metadata": {
        "id": "dXWpy9xQFxTr"
      },
      "source": [
        "<div style=\"background-color: #54c7ec; color: #fff; font-weight: 700; padding-left: 10px; padding-top: 5px; padding-bottom: 5px\"><strong>NOTE:</strong></div>\n",
        "<div style=\"background-color: #f3f4f7; padding-left: 10px; padding-top: 10px; padding-bottom: 10px; padding-right: 10px\">\n",
        "<p>In-place operations save some memory, but can be problematic when computing derivatives because of an immediate lossof history. Hence, their use is discouraged.</p>\n",
        "</div>\n"
      ]
    },
    {
      "cell_type": "markdown",
      "metadata": {
        "id": "6EoPiW6CFxTr"
      },
      "source": [
        "------------------------------------------------------------------------\n"
      ]
    },
    {
      "cell_type": "markdown",
      "metadata": {
        "id": "5yXGAxOwFxTr"
      },
      "source": [
        "Bridge with NumPy {#bridge-to-np-label}\n",
        "=================\n",
        "\n",
        "Tensors on the CPU and NumPy arrays can share their underlying memory\n",
        "locations, and changing one will change the other.\n"
      ]
    },
    {
      "cell_type": "markdown",
      "metadata": {
        "id": "DPIoehQwFxTs"
      },
      "source": [
        "Tensor to NumPy array\n",
        "=====================\n"
      ]
    },
    {
      "cell_type": "code",
      "execution_count": 24,
      "metadata": {
        "id": "vARbeLEEFxTs",
        "outputId": "72c5aa81-5176-4fb3-bc3d-08622b43bce0",
        "colab": {
          "base_uri": "https://localhost:8080/"
        }
      },
      "outputs": [
        {
          "output_type": "stream",
          "name": "stdout",
          "text": [
            "t: tensor([1., 1., 1., 1., 1.])\n",
            "n: [1. 1. 1. 1. 1.]\n"
          ]
        }
      ],
      "source": [
        "t = torch.ones(5)\n",
        "print(f\"t: {t}\")\n",
        "n = t.numpy()\n",
        "print(f\"n: {n}\")"
      ]
    },
    {
      "cell_type": "markdown",
      "metadata": {
        "id": "lZo90mlqFxTs"
      },
      "source": [
        "A change in the tensor reflects in the NumPy array.\n"
      ]
    },
    {
      "cell_type": "code",
      "execution_count": 25,
      "metadata": {
        "id": "rsrG82i-FxTs",
        "outputId": "9a96316f-89f5-4d83-d3f4-a31d8f8c7e0f",
        "colab": {
          "base_uri": "https://localhost:8080/"
        }
      },
      "outputs": [
        {
          "output_type": "stream",
          "name": "stdout",
          "text": [
            "t: tensor([2., 2., 2., 2., 2.])\n",
            "n: [2. 2. 2. 2. 2.]\n"
          ]
        }
      ],
      "source": [
        "t.add_(1)\n",
        "print(f\"t: {t}\")\n",
        "print(f\"n: {n}\")"
      ]
    },
    {
      "cell_type": "markdown",
      "metadata": {
        "id": "ZAJE55PPFxTt"
      },
      "source": [
        "NumPy array to Tensor\n",
        "=====================\n"
      ]
    },
    {
      "cell_type": "code",
      "execution_count": null,
      "metadata": {
        "id": "t3cAvtZUFxTt"
      },
      "outputs": [],
      "source": [
        "n = np.ones(5)\n",
        "t = torch.from_numpy(n)"
      ]
    },
    {
      "cell_type": "markdown",
      "metadata": {
        "id": "OtLnClapFxTt"
      },
      "source": [
        "Changes in the NumPy array reflects in the tensor.\n"
      ]
    },
    {
      "cell_type": "code",
      "execution_count": 26,
      "metadata": {
        "id": "hqRLilblFxTu",
        "outputId": "37a6847f-647c-4c84-b0e1-83299d49e91e",
        "colab": {
          "base_uri": "https://localhost:8080/"
        }
      },
      "outputs": [
        {
          "output_type": "stream",
          "name": "stdout",
          "text": [
            "t: tensor([3., 3., 3., 3., 3.])\n",
            "n: [3. 3. 3. 3. 3.]\n"
          ]
        }
      ],
      "source": [
        "np.add(n, 1, out=n)\n",
        "print(f\"t: {t}\")\n",
        "print(f\"n: {n}\")"
      ]
    },
    {
      "cell_type": "markdown",
      "source": [
        "## ***`Exercise One***"
      ],
      "metadata": {
        "id": "s8y-mrzjSF5v"
      }
    },
    {
      "cell_type": "code",
      "source": [
        "W= torch.rand(3,3)\n",
        "print(W)"
      ],
      "metadata": {
        "id": "jFcQCIbSTKay",
        "outputId": "294c4c32-f707-4d59-f229-4a52b3541f9a",
        "colab": {
          "base_uri": "https://localhost:8080/"
        }
      },
      "execution_count": 28,
      "outputs": [
        {
          "output_type": "stream",
          "name": "stdout",
          "text": [
            "tensor([[0.4334, 0.4201, 0.6824],\n",
            "        [0.2412, 0.6845, 0.3681],\n",
            "        [0.1607, 0.6514, 0.4931]])\n"
          ]
        }
      ]
    },
    {
      "cell_type": "code",
      "source": [
        "data = [[1.3],[2.6],[3.0]]\n",
        "X = torch.tensor(data)\n",
        "print(X)\n",
        "print(X.shape)"
      ],
      "metadata": {
        "id": "FEb_s-vDTfZh",
        "outputId": "e8bb7940-cb8c-4682-828c-b35ab7b779a3",
        "colab": {
          "base_uri": "https://localhost:8080/"
        }
      },
      "execution_count": 36,
      "outputs": [
        {
          "output_type": "stream",
          "name": "stdout",
          "text": [
            "tensor([[1.3000],\n",
            "        [2.6000],\n",
            "        [3.0000]])\n",
            "torch.Size([3, 1])\n"
          ]
        }
      ]
    },
    {
      "cell_type": "code",
      "source": [
        "B=torch.ones(3,1)\n",
        "print(B)\n",
        "print(B.shape)"
      ],
      "metadata": {
        "id": "uxbqGyutT-1I",
        "outputId": "8e56f514-9bce-4c98-ddbe-4d79989c3a11",
        "colab": {
          "base_uri": "https://localhost:8080/"
        }
      },
      "execution_count": 32,
      "outputs": [
        {
          "output_type": "stream",
          "name": "stdout",
          "text": [
            "tensor([[1.],\n",
            "        [1.],\n",
            "        [1.]])\n",
            "torch.Size([3, 1])\n"
          ]
        }
      ]
    },
    {
      "cell_type": "code",
      "source": [
        "Y = W.T @ X + B\n",
        "print(Y)"
      ],
      "metadata": {
        "id": "qbtRWDzvUIf9",
        "outputId": "4b0b318a-f52a-42a6-d5f7-4a4dff6cfbf4",
        "colab": {
          "base_uri": "https://localhost:8080/"
        }
      },
      "execution_count": 78,
      "outputs": [
        {
          "output_type": "stream",
          "name": "stdout",
          "text": [
            "tensor([[2.6727],\n",
            "        [5.2799],\n",
            "        [4.3234]])\n"
          ]
        }
      ]
    },
    {
      "cell_type": "code",
      "source": [
        "def dot_product_2d(matrix_a, matrix_b):\n",
        "    # Ensure the inner dimensions match\n",
        "    if len(matrix_a[0]) != len(matrix_b):\n",
        "        raise ValueError(\"Inner dimensions must match for dot product\")\n",
        "\n",
        "    # Initialize the result matrix\n",
        "    result = [[0 for _ in range(len(matrix_b[0]))] for _ in range(len(matrix_a))]\n",
        "\n",
        "    # Perform the dot product\n",
        "    for i in range(len(matrix_a)):\n",
        "        for j in range(len(matrix_b[0])):\n",
        "            for k in range(len(matrix_b)):\n",
        "                result[i][j] += matrix_a[i][k] * matrix_b[k][j]\n",
        "\n",
        "    return result"
      ],
      "metadata": {
        "id": "mAuO1PQsfLs-"
      },
      "execution_count": null,
      "outputs": []
    },
    {
      "cell_type": "code",
      "source": [
        "#checking min\n",
        "minvalue=Y.min()\n",
        "print(Y.min())\n",
        "#checking max\n",
        "maxvalue=Y.max()\n",
        "print(maxvalue)\n",
        "#checking standard devition\n",
        "print(Y.std())"
      ],
      "metadata": {
        "id": "yFQrI4hdVT37",
        "outputId": "e164d480-df60-40a2-baf6-6fb625b9e442",
        "colab": {
          "base_uri": "https://localhost:8080/"
        }
      },
      "execution_count": 58,
      "outputs": [
        {
          "output_type": "stream",
          "name": "stdout",
          "text": [
            "tensor(4.1974)\n",
            "tensor(4.7028)\n",
            "tensor(0.2558)\n"
          ]
        }
      ]
    },
    {
      "cell_type": "code",
      "source": [
        "print(len(Y))\n",
        "print(len(Y[0]))\n",
        "# def checkingmax(Y):\n",
        "#   for i in range(len(Y)):\n",
        "#     for j in range(len(Y[i])):\n",
        "#       if Y[i][j] == maxvalue:\n",
        "#         index = [i][j]\n",
        "#     return index\n",
        "# print(checkingmax(Y))\n",
        ""
      ],
      "metadata": {
        "id": "GOy179jsYz0P",
        "outputId": "f79aa1b0-888c-45c8-dd34-27b8e987e8dc",
        "colab": {
          "base_uri": "https://localhost:8080/"
        }
      },
      "execution_count": 86,
      "outputs": [
        {
          "output_type": "stream",
          "name": "stdout",
          "text": [
            "3\n",
            "1\n"
          ]
        }
      ]
    },
    {
      "cell_type": "code",
      "source": [
        "# initialize weights or W with random numbers\n",
        "Y"
      ],
      "metadata": {
        "id": "gQjSOcuvZtjK",
        "outputId": "92822b8f-5d04-4b48-f73e-d930b1e95d19",
        "colab": {
          "base_uri": "https://localhost:8080/"
        }
      },
      "execution_count": 79,
      "outputs": [
        {
          "output_type": "execute_result",
          "data": {
            "text/plain": [
              "tensor([[2.6727],\n",
              "        [5.2799],\n",
              "        [4.3234]])"
            ]
          },
          "metadata": {},
          "execution_count": 79
        }
      ]
    },
    {
      "cell_type": "code",
      "source": [
        "max_number = torch.argmax(Y).item()\n",
        "max_number"
      ],
      "metadata": {
        "id": "ESeSkSVtaO0f",
        "outputId": "b97f41a3-a2b9-4ab1-cfdd-2a9fc32458a3",
        "colab": {
          "base_uri": "https://localhost:8080/"
        }
      },
      "execution_count": 83,
      "outputs": [
        {
          "output_type": "execute_result",
          "data": {
            "text/plain": [
              "1"
            ]
          },
          "metadata": {},
          "execution_count": 83
        }
      ]
    },
    {
      "cell_type": "markdown",
      "source": [
        "# **Exercise 2**"
      ],
      "metadata": {
        "id": "EEYT-QpnalHe"
      }
    },
    {
      "cell_type": "markdown",
      "source": [
        "# Implementing dot product by scratch\n",
        "Pseudo Code:\n"
      ],
      "metadata": {
        "id": "s5-5y9sKblxv"
      }
    },
    {
      "cell_type": "code",
      "source": [
        "Y = W.T @ X + B\n",
        "print(Y)"
      ],
      "metadata": {
        "id": "3s67KutRgDXz",
        "outputId": "fd50437a-fb36-48ec-e250-0fde53f5c79e",
        "colab": {
          "base_uri": "https://localhost:8080/"
        }
      },
      "execution_count": 95,
      "outputs": [
        {
          "output_type": "stream",
          "name": "stdout",
          "text": [
            "tensor([[2.6727],\n",
            "        [5.2799],\n",
            "        [4.3234]])\n"
          ]
        }
      ]
    },
    {
      "cell_type": "code",
      "source": [
        "\n",
        "# Transpose W\n",
        "W_T = W.T\n",
        "\n",
        "\n",
        "\n",
        "\n",
        "print(Y)"
      ],
      "metadata": {
        "id": "PXBceL7diWx6",
        "outputId": "36e1cb7c-02dc-4819-f82c-307e5d62fdf2",
        "colab": {
          "base_uri": "https://localhost:8080/"
        }
      },
      "execution_count": 98,
      "outputs": [
        {
          "output_type": "stream",
          "name": "stdout",
          "text": [
            "tensor([[2.6727],\n",
            "        [5.2799],\n",
            "        [4.3234]])\n"
          ]
        }
      ]
    },
    {
      "cell_type": "code",
      "source": [
        "import time as t\n",
        "start = t.time()\n",
        "def functionforY(W_T,X,B):\n",
        "    result = np.zeros((W_T.shape[0], X.shape[1]))\n",
        "    if len(W_T[0]) != len(B):\n",
        "        print(\"Wrong Dimensions\")\n",
        "    else:\n",
        "\n",
        "        for i in range(W_T.shape[0]):\n",
        "            for j in range(X.shape[1]):\n",
        "                for k in range(W_T.shape[1]):\n",
        "                    result[i][j] += W_T[i][k] * X[k][j]\n",
        "\n",
        "        for i in range(result.shape[0]):\n",
        "            for j in range(Y.shape[1]):\n",
        "                result[i][j] += B[i][j]\n",
        "\n",
        "    return Y\n",
        "\n",
        "print(functionforY(W_T,X,B))\n",
        "end = t.time()\n",
        "print(\"for LOOPs:\", end-start)\n",
        "start2 = t.time()\n",
        "Y = W.T @ X + B\n",
        "print(Y)\n",
        "end2 = t.time()\n",
        "print(\"Direct \",end-start)\n",
        "\n",
        "\n"
      ],
      "metadata": {
        "id": "NaFUQIhGiu27",
        "outputId": "1730df6f-79d2-46d7-d5da-060a4e96b26e",
        "colab": {
          "base_uri": "https://localhost:8080/"
        }
      },
      "execution_count": 104,
      "outputs": [
        {
          "output_type": "stream",
          "name": "stdout",
          "text": [
            "tensor([[2.6727],\n",
            "        [5.2799],\n",
            "        [4.3234]])\n",
            "for LOOPs: 0.003556966781616211\n",
            "tensor([[2.6727],\n",
            "        [5.2799],\n",
            "        [4.3234]])\n",
            "Direct 0.003556966781616211\n"
          ]
        }
      ]
    }
  ],
  "metadata": {
    "kernelspec": {
      "display_name": "Python 3",
      "name": "python3"
    },
    "language_info": {
      "codemirror_mode": {
        "name": "ipython",
        "version": 3
      },
      "file_extension": ".py",
      "mimetype": "text/x-python",
      "name": "python",
      "nbconvert_exporter": "python",
      "pygments_lexer": "ipython3",
      "version": "3.10.14"
    },
    "colab": {
      "provenance": []
    }
  },
  "nbformat": 4,
  "nbformat_minor": 0
}